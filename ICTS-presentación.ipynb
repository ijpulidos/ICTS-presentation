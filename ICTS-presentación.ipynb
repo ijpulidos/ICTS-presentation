{
 "metadata": {
  "celltoolbar": "Slideshow",
  "name": "",
  "signature": "sha256:60f6aabcaa68735c3cd9bca230804cf8de5b7b4a0676f6395b394ae750175063"
 },
 "nbformat": 3,
 "nbformat_minor": 0,
 "worksheets": [
  {
   "cells": [
    {
     "cell_type": "code",
     "collapsed": false,
     "input": [
      "from IPython.display import HTML"
     ],
     "language": "python",
     "metadata": {
      "slideshow": {
       "slide_type": "skip"
      }
     },
     "outputs": [],
     "prompt_number": 1
    },
    {
     "cell_type": "markdown",
     "metadata": {
      "slideshow": {
       "slide_type": "slide"
      }
     },
     "source": [
      "# Ciencia para una sociedad libre #\n",
      "## Iv\u00e1n Jos\u00e9 Pulido S\u00e1nchez (twitter: [ijpulidos](https://twitter.com/ijpulidos)) ##\n",
      "### [ijpulidos@unal.edu.co](mailto:ijpulidos@unal.edu.co)\n",
      "### Grupo de Simulaci\u00f3n de Sistemas F\u00edsicos (UNAL) ###\n",
      "### Semillero estudiantil \"Ciencia, Tecnolog\u00eda y Sociedad\" ###\n",
      "### Hackerspace de Bogot\u00e1, HackBo ###\n",
      "#### Mayo 14 de 2014 ####\n",
      "<img src=images/logo.png style=\"float:left; width:200px;\">\n",
      "<img src=images/CTS.png style=\"height:120px; width:200px; float:left;\">\n",
      "<img src=images/UN_logo.png style=\"height:120px; width:200px; float:right\">\n",
      "<img src=images/casita.png style=\"height:120px; width:200px;\">"
     ]
    },
    {
     "cell_type": "markdown",
     "metadata": {
      "slideshow": {
       "slide_type": "slide"
      }
     },
     "source": [
      "# _Imaginen_ un mundo en donde...\n",
      "* Las decisiones **m\u00e1s importantes** son tomadas con base a los desarrollos en ciencia y tecnolog\u00eda.\n",
      "* La gran mayor\u00eda de publicaciones en avances en ciencia y tecnolog\u00eda son desechadas y, la parte que queda, s\u00f3lo la conoce una peque\u00f1a \u00e9lite.\n",
      "* Las publicaciones cient\u00edficas contienen errores y estos errores son avalados por expertos.\n",
      "* La mayor\u00eda de habitantes de este mundo no tienen acceso a lo que hacen y producen los(as) cient\u00edficos(as).\n",
      "* Las grandes editoriales acad\u00e9micas trabajan casi exclusivamente con \u00e1nimo de lucro."
     ]
    },
    {
     "cell_type": "markdown",
     "metadata": {
      "slideshow": {
       "slide_type": "fragment"
      }
     },
     "source": [
      "### \u00c9ste mundo ser\u00eda algo como esto...\n",
      "<img src=images/Earth_Eastern_Hemisphere.jpg>"
     ]
    },
    {
     "cell_type": "markdown",
     "metadata": {
      "slideshow": {
       "slide_type": "slide"
      }
     },
     "source": [
      "# La ciencia y la academia\n",
      "### _\u00bfM\u00e1s all\u00e1 del bien y el mal?_\n",
      "<a <href=\"http://xkcd.com/54/\"><img src=http://imgs.xkcd.com/comics/science.jpg style=\"height:250px\"> </a>\n"
     ]
    },
    {
     "cell_type": "markdown",
     "metadata": {
      "slideshow": {
       "slide_type": "fragment"
      }
     },
     "source": [
      "### Pero...\n",
      "<a <href=\"http://www.phdcomics.com/comics/archive.php?comicid=1436\"><img src=http://www.phdcomics.com/comics/archive/phd072011s.gif style=\"height:280px; width:400px; float:left;\"></a>\n",
      "\n",
      "<a <href=\"https://tsepustuksia.wordpress.com/2012/02/10/on-academic-publishing-bibliometric-lists-and-other-random-bits/\"><img src=https://tsepustuksia.files.wordpress.com/2012/02/publishing.gif style=\"height:280px; width:400px; float:left;\"></a>"
     ]
    },
    {
     "cell_type": "markdown",
     "metadata": {
      "slideshow": {
       "slide_type": "subslide"
      }
     },
     "source": [
      "# Su difusi\u00f3n y publicaci\u00f3n\n",
      "\n",
      "* Se hace principalmente a trav\u00e9s de _journals_. Aunque estos est\u00e9n pensados para el mundo de hace unos 200 a\u00f1os.\n",
      "\n",
      "<img src=images/pub1.png style=\"height:200px; width:380px; float:left\">\n",
      "<img src=images/pub2.png style=\"height:200px; width:380px; float:left\">\n"
     ]
    },
    {
     "cell_type": "markdown",
     "metadata": {
      "slideshow": {
       "slide_type": "fragment"
      }
     },
     "source": [
      "### O ser\u00e1 mejor..."
     ]
    },
    {
     "cell_type": "code",
     "collapsed": false,
     "input": [
      "HTML('<iframe src=http://nbviewer.ipython.org/github/jrjohansson/qutip-lectures/blob/master/Lecture-1-Jaynes-Cumming-model.ipynb width=700 height=350></iframe>')"
     ],
     "language": "python",
     "metadata": {
      "slideshow": {
       "slide_type": "fragment"
      }
     },
     "outputs": [
      {
       "html": [
        "<iframe src=http://nbviewer.ipython.org/github/jrjohansson/qutip-lectures/blob/master/Lecture-1-Jaynes-Cumming-model.ipynb width=700 height=350></iframe>"
       ],
       "metadata": {},
       "output_type": "pyout",
       "prompt_number": 4,
       "text": [
        "<IPython.core.display.HTML at 0x7f58bca43278>"
       ]
      }
     ],
     "prompt_number": 4
    },
    {
     "cell_type": "markdown",
     "metadata": {
      "slideshow": {
       "slide_type": "subslide"
      }
     },
     "source": [
      "# Su difusi\u00f3n y publicaci\u00f3n\n",
      "## El gran negocio de las editoriales y su cultura\n",
      "\n",
      "<a <href=\"http://alexholcombe.wordpress.com/2013/01/09/scholarly-publishers-and-their-high-profits/\"><img src=images/editorialprofit.png></a>\n",
      "\n",
      "**Las publicaciones como productos _cualquiera_, tal que publicar se vuelve el objetivo, no desarrollar la ciencia.**\n",
      "\n",
      "\n",
      "_Ni siquiera Coca Cola llega a esos niveles_\n",
      "\n",
      "http://poeticeconomics.blogspot.ca/2014/03/elsevier-stm-publishing-profits-rise-to.html"
     ]
    },
    {
     "cell_type": "markdown",
     "metadata": {
      "slideshow": {
       "slide_type": "subslide"
      }
     },
     "source": [
      "# Su difusi\u00f3n y publicaci\u00f3n\n",
      "\n",
      "### Revisi\u00f3n por pares (_peer review_)... \u00bfEfectiva?\n",
      "\n",
      "  * Problemas de **reproducibilidad**\n",
      " \n",
      " <a <href=\"http://www.psmag.com/navigation/nature-and-technology/scientific-publishing-killing-science-75694/\"><img src=images/peer1.png style=\"width:500px;\"></a>"
     ]
    },
    {
     "cell_type": "markdown",
     "metadata": {
      "slideshow": {
       "slide_type": "fragment"
      }
     },
     "source": [
      "  * Publicaci\u00f3n de art\u00edculos _basura_\n",
      " \n",
      " <a <href=\"http://thatsmathematics.com/blog/archives/102\"><img src=images/peer2.png style=\"width:500px;\"></a>"
     ]
    },
    {
     "cell_type": "markdown",
     "metadata": {
      "slideshow": {
       "slide_type": "fragment"
      }
     },
     "source": [
      "### _\"Dime con qui\u00e9n andas y te dir\u00e9 d\u00f3nde puedes publicar f\u00e1cilmente\"_\n",
      "### Adem\u00e1s de los problemas de _elitizaci\u00f3n_, espera para publicaci\u00f3n y de acceso al conocimiento cient\u00edfico."
     ]
    },
    {
     "cell_type": "markdown",
     "metadata": {
      "slideshow": {
       "slide_type": "slide"
      }
     },
     "source": [
      "# No cambiemos al mundo... \u00a1cambiemos nosotros!\n",
      "\n",
      "* Que el objetivo no sea convencer masivamente.\n",
      "* Las _buenas_ pr\u00e1cticas terminan convenciendo por s\u00ed solas... es una _buena_ pr\u00e1ctica poner en pr\u00e1ctica las _buenas_ pr\u00e1cticas.\n",
      "* [**_Bootstrapping_**](https://en.wikipedia.org/wiki/Bootstrapping): Hay que dejar que las \"buenas\" cosas se propaguen y crezcan.\n",
      "* Cu\u00e9ntenle al mundo: Ahora es muy f\u00e1cil publicar \u00bfPor qu\u00e9 no aprovecharlo?."
     ]
    },
    {
     "cell_type": "markdown",
     "metadata": {
      "slideshow": {
       "slide_type": "fragment"
      }
     },
     "source": [
      "# El quehacer cient\u00edfico\n",
      "\n",
      "Tres grandes etapas:\n",
      "\n",
      " 1. Acumulaci\u00f3n de conocimiento.\n",
      " 2. Creaci\u00f3n.\n",
      " 3. Transmisi\u00f3n.\n",
      " \n",
      "Esto exige un trabajo colaborativo y comunitario. Y, con m\u00e1s detalle, el quehacer cient\u00edfico involucra:\n",
      "\n",
      " * La ejecuci\u00f3n de muchas tareas peque\u00f1as iterativas/repetitivas. Qu\u00e9 bueno no tener que empezar siempre de cero.\n",
      " * Constantes cambios, pruebas y modificaciones. Un _metam\u00e9todo_ (no existe **El M\u00e9todo Cient\u00edfico**).\n",
      " * Datos, herramientas, software y dem\u00e1s que el p\u00fablico pueda acceder.\n",
      " * Resultados de todo tipo f\u00e1ciles de acceder. Texto en journals tradicionales no basta.\n",
      " * _Hub_ de herramientas, t\u00e9cnicas y m\u00e9todos. No reinventar la rueda, s\u00f3lo saber unir ruedas y dem\u00e1s partes para armar el autom\u00f3vil... colaboraci\u00f3n, colaboraci\u00f3n y m\u00e1s colaboraci\u00f3n.\n",
      " * Un supuesto conocimiento por s\u00ed solo no significa nada. Comunidad."
     ]
    },
    {
     "cell_type": "markdown",
     "metadata": {
      "slideshow": {
       "slide_type": "subslide"
      }
     },
     "source": [
      "# Acceso abierto... pero de verdad\n",
      "\n",
      "* Publicaciones deben poder ser accedidas a todo el que quiera verlas. Protegidas por licencias libres (ej. Creative Commons).\n",
      "* Revisi\u00f3n por pares comunitaria: Manuscritos deben ser evaluados por toda la comunidad.\n",
      "* Rapidez: Investigadores deber\u00edan poder publicar sus manuscritos tan pronto sean escritos.\n",
      "* Datos, herramientas y pruebas deber\u00edan estar disponibles publicamente.\n",
      "\n",
      "<img src=images/CC.png style=\"float:left\">\n",
      "\n",
      "<img src=images/openaccess.jpg style=\"height:180px\">\n",
      "\n",
      "## _\"Si he visto m\u00e1s lejos es porque estoy sentado sobre los hombros de gigantes\"_ - Newton (?)"
     ]
    },
    {
     "cell_type": "markdown",
     "metadata": {
      "slideshow": {
       "slide_type": "subslide"
      }
     },
     "source": [
      "# Software Libre\n",
      "\n",
      "* La libertad de correr el programa, con cualquier prop\u00f3sito (libertad 0).\n",
      "* La libertad de estudiar c\u00f3mo funciona el programa y cambiarlo de tal forma que se adapte a sus deseos (libertad 1). El acceso al c\u00f3digo es una condici\u00f3n para esto.\n",
      "* La libertad para redistribuir copias del mismo para ayudar a sus vecinos(as) (libertad 2).\n",
      "* La libertad para distribuir copias de sus versiones modificadas a los dem\u00e1s (libertad 3). As\u00ed le puede dar la oportunidad de beneficiarse a toda la comunidad de sus modificaciones.\n",
      "\n",
      "https://gnu.org/philosophy/free-sw.html\n",
      "\n",
      "<img src=\"images/FSF.png\">"
     ]
    },
    {
     "cell_type": "markdown",
     "metadata": {
      "slideshow": {
       "slide_type": "subslide"
      }
     },
     "source": [
      "# \u00bfPor qu\u00e9 Software Libre?\n",
      "* Promueve un modelo \u00e9tico de trabajo comunitario y colaborativo\n",
      "* Permite la creaci\u00f3n de nuevo conocimiento, disminuyendo la dependencia y la brecha tecnol\u00f3gica.\n",
      "\n",
      "### Un ejemplo ([\"el Excel maligno\"](http://baselinescenario.com/2013/04/18/more-bad-excel/))\n",
      "\n",
      "<img src=images/BadExcel1.jpg style=\"width:400px; float:left;\">\n",
      "<img src=images/BadExcel2.jpg style=\"width:400px;\">"
     ]
    },
    {
     "cell_type": "markdown",
     "metadata": {
      "slideshow": {
       "slide_type": "fragment"
      }
     },
     "source": [
      "Afortunadamente existen cosas como:\n",
      "\n",
      "<img src=images/ipython.png style=\"float:left;\">\n",
      "<img src=images/R.png style=\"height:100px\">\n",
      "\n",
      "http://www.peri.umass.edu/236/hash/31e2ff374b6377b2ddec04deaa6388b1/publication/566/"
     ]
    },
    {
     "cell_type": "markdown",
     "metadata": {
      "slideshow": {
       "slide_type": "subslide"
      }
     },
     "source": [
      "# y a todo esto se le llama... CIENCIA ABIERTA\n",
      "\n",
      "(Aunque parad\u00f3jicamente suene redundante)\n"
     ]
    },
    {
     "cell_type": "code",
     "collapsed": false,
     "input": [
      "from IPython.display import YouTubeVideo\n",
      "YouTubeVideo(\"DnWocYKqvhw\")"
     ],
     "language": "python",
     "metadata": {
      "slideshow": {
       "slide_type": "fragment"
      }
     },
     "outputs": [
      {
       "html": [
        "\n",
        "        <iframe\n",
        "            width=\"400\"\n",
        "            height=300\"\n",
        "            src=\"https://www.youtube.com/embed/DnWocYKqvhw\"\n",
        "            frameborder=\"0\"\n",
        "            allowfullscreen\n",
        "        ></iframe>\n",
        "        "
       ],
       "metadata": {},
       "output_type": "pyout",
       "prompt_number": 5,
       "text": [
        "<IPython.lib.display.YouTubeVideo at 0x7f58bca43320>"
       ]
      }
     ],
     "prompt_number": 5
    },
    {
     "cell_type": "markdown",
     "metadata": {
      "slideshow": {
       "slide_type": "subslide"
      }
     },
     "source": [
      "# Las herramientas existen\n",
      "## Es cuesti\u00f3n de nosotros empezar a usarlas...\n",
      "\n",
      "<a <href=\"http://mozillascience.org/\"><img src=images/mozillascience.png style=\"width:300px; float:left\"></a>\n",
      "<a <href=\"http://centerforopenscience.org/\"><img src=images/COS.jpg style=\"width:200px; float:left\"></a>\n",
      "<a <href=\"http://michaelnielsen.org/polymath1/index.php?title=Main_Page\"><img src=images/polymath.png style=\"width:200px; float:left\"></a>\n",
      "<a <href=\"http://ipython.org/\"><img src=images/ipython.png style=\"width:250px; float:left\"></a>\n",
      "<a <href=\"http://www.plosone.org/\"><img src=images/plosone.png style=\"width:200px; float:left\"></a>\n",
      "<a <href=\"http://figshare.com/\"><img src=images/figshare.jpg style=\"width:200px\"></a>\n",
      "<a <href=\"http://www.r-project.org/\"><img src=images/R.png style=\"width:200px; float:left\"></a>\n",
      "\n"
     ]
    }
   ],
   "metadata": {}
  }
 ]
}