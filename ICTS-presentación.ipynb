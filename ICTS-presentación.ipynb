{
 "metadata": {
  "celltoolbar": "Slideshow",
  "name": "",
  "signature": "sha256:cb75d22826faeff708b4057f64bb72122b9c4740d8d07912d7f74b686effd118"
 },
 "nbformat": 3,
 "nbformat_minor": 0,
 "worksheets": [
  {
   "cells": [
    {
     "cell_type": "code",
     "collapsed": false,
     "input": [
      "from IPython.display import HTML"
     ],
     "language": "python",
     "metadata": {
      "slideshow": {
       "slide_type": "skip"
      }
     },
     "outputs": [],
     "prompt_number": 1
    },
    {
     "cell_type": "markdown",
     "metadata": {
      "slideshow": {
       "slide_type": "slide"
      }
     },
     "source": [
      "# Ciencia para una sociedad libre #\n",
      "#### (_o por qu\u00e9 la ciencia apesta_) ####\n",
      "## Iv\u00e1n Jos\u00e9 Pulido S\u00e1nchez ##\n",
      "### Grupo de Simulaci\u00f3n de Sistemas F\u00edsicos (UNAL) ###\n",
      "### Semillero estudiantil \"Ciencia, Tecnolog\u00eda y Sociedad\" ###\n",
      "### Hackerspace de Bogot\u00e1, HackBo ###\n",
      "#### Mayo 14 de 2014 ####\n",
      "<img src=images/logo.png style=\"float:left; width:200px;\">\n",
      "<img src=images/CTS.png style=\"height:120px; width:200px; float:left;\">\n",
      "<img src=images/UN_logo.png style=\"height:120px; width:200px; float:right\">\n",
      "<img src=images/casita.png style=\"height:120px; width:200px;\">"
     ]
    },
    {
     "cell_type": "markdown",
     "metadata": {
      "slideshow": {
       "slide_type": "slide"
      }
     },
     "source": [
      "# _Imaginen_ un mundo en donde...\n",
      "* Las decisiones **m\u00e1s importantes** son tomadas con base a los desarrollos en ciencia y tecnolog\u00eda.\n",
      "* La gran mayor\u00eda de publicaciones en avances en ciencia y tecnolog\u00eda son desechadas y, la parte que queda, s\u00f3lo la conoce una peque\u00f1a \u00e9lite.\n",
      "* Las publicaciones cient\u00edficas contienen errores y estos errores son avalados por expertos.\n",
      "* La mayor\u00eda de habitantes de este mundo no tienen acceso a lo que hacen y producen los(as) cient\u00edficos(as).\n",
      "* Las grandes editoriales acad\u00e9micas trabajan casi exclusivamente con \u00e1nimo de lucro."
     ]
    },
    {
     "cell_type": "markdown",
     "metadata": {
      "slideshow": {
       "slide_type": "fragment"
      }
     },
     "source": [
      "### \u00c9ste mundo ser\u00eda algo como esto...\n",
      "<img src=images/Earth_Eastern_Hemisphere.jpg>"
     ]
    },
    {
     "cell_type": "markdown",
     "metadata": {
      "slideshow": {
       "slide_type": "slide"
      }
     },
     "source": [
      "# La ciencia y la academia\n",
      "### _\u00bfM\u00e1s all\u00e1 del bien y el mal?_\n",
      "<a <href=\"http://xkcd.com/54/\"><img src=http://imgs.xkcd.com/comics/science.jpg style=\"height:250px\"> </a>\n"
     ]
    },
    {
     "cell_type": "markdown",
     "metadata": {
      "slideshow": {
       "slide_type": "fragment"
      }
     },
     "source": [
      "### Pero...\n",
      "<a <href=\"http://www.phdcomics.com/comics/archive.php?comicid=1436\"><img src=http://www.phdcomics.com/comics/archive/phd072011s.gif style=\"height:280px; width:400px; float:left;\"></a>\n",
      "\n",
      "<a <href=\"https://tsepustuksia.wordpress.com/2012/02/10/on-academic-publishing-bibliometric-lists-and-other-random-bits/\"><img src=https://tsepustuksia.files.wordpress.com/2012/02/publishing.gif style=\"height:280px; width:400px; float:left;\"></a>"
     ]
    },
    {
     "cell_type": "markdown",
     "metadata": {
      "slideshow": {
       "slide_type": "subslide"
      }
     },
     "source": [
      "# Su difusi\u00f3n y publicaci\u00f3n\n",
      "\n",
      "* Se hace principalmente a trav\u00e9s de _journals_. Aunque estos est\u00e9n pensados para el mundo de hace unos 200 a\u00f1os.\n",
      "\n",
      "<img src=images/pub1.png style=\"height:200px; width:380px; float:left\">\n",
      "<img src=images/pub2.png style=\"height:200px; width:380px; float:left\">\n"
     ]
    },
    {
     "cell_type": "markdown",
     "metadata": {
      "slideshow": {
       "slide_type": "fragment"
      }
     },
     "source": [
      "### O ser\u00e1 mejor..."
     ]
    },
    {
     "cell_type": "code",
     "collapsed": false,
     "input": [
      "HTML('<iframe src=http://nbviewer.ipython.org/github/jrjohansson/qutip-lectures/blob/master/Lecture-1-Jaynes-Cumming-model.ipynb width=700 height=350></iframe>')"
     ],
     "language": "python",
     "metadata": {
      "slideshow": {
       "slide_type": "fragment"
      }
     },
     "outputs": [
      {
       "html": [
        "<iframe src=http://nbviewer.ipython.org/github/jrjohansson/qutip-lectures/blob/master/Lecture-1-Jaynes-Cumming-model.ipynb width=700 height=350></iframe>"
       ],
       "metadata": {},
       "output_type": "pyout",
       "prompt_number": 4,
       "text": [
        "<IPython.core.display.HTML at 0x7f58bca43278>"
       ]
      }
     ],
     "prompt_number": 4
    },
    {
     "cell_type": "markdown",
     "metadata": {
      "slideshow": {
       "slide_type": "subslide"
      }
     },
     "source": [
      "# Su difusi\u00f3n y publicaci\u00f3n\n",
      "\n",
      "### Revisi\u00f3n por pares (_peer review_)... \u00bfEfectiva?\n",
      "\n",
      "  * Problemas de **reproducibilidad**\n",
      " \n",
      " <a <href=\"http://www.psmag.com/navigation/nature-and-technology/scientific-publishing-killing-science-75694/\"><img src=images/peer1.png style=\"width:500px;\"></a>"
     ]
    },
    {
     "cell_type": "markdown",
     "metadata": {
      "slideshow": {
       "slide_type": "fragment"
      }
     },
     "source": [
      "  * Publicaci\u00f3n de art\u00edculos _basura_\n",
      " \n",
      " <a <href=\"http://thatsmathematics.com/blog/archives/102\"><img src=images/peer2.png style=\"width:500px;\"></a>"
     ]
    },
    {
     "cell_type": "markdown",
     "metadata": {
      "slideshow": {
       "slide_type": "fragment"
      }
     },
     "source": [
      "### _\"Dime con qui\u00e9n andas y te dir\u00e9 d\u00f3nde puedes publicar f\u00e1cilmente\"_\n",
      "### Adem\u00e1s de los problemas de _elitizaci\u00f3n_, espera para publicaci\u00f3n y de acceso al conocimiento cient\u00edfico."
     ]
    },
    {
     "cell_type": "markdown",
     "metadata": {
      "slideshow": {
       "slide_type": "slide"
      }
     },
     "source": [
      "# No cambiemos al mundo... \u00a1cambiemos nosotros!\n",
      "\n",
      "* Que el objetivo no sea convencer masivamente.\n",
      "* Las _buenas_ pr\u00e1cticas terminan convenciendo por s\u00ed solas... es una _buena_ pr\u00e1ctica poner en pr\u00e1ctica las _buenas_ pr\u00e1cticas.\n",
      "* [**_Bootstrapping_**](https://en.wikipedia.org/wiki/Bootstrapping): Hay que dejar que las \"buenas\" cosas se propaguen y crezcan.\n",
      "* Cu\u00e9ntenle al mundo: Ahora es muy f\u00e1cil publicar \u00bfPor qu\u00e9 no aprovecharlo?."
     ]
    },
    {
     "cell_type": "markdown",
     "metadata": {
      "slideshow": {
       "slide_type": "subslide"
      }
     },
     "source": [
      "# Ciencia Abierta\n",
      "\n",
      "Aunque suene redundante, consiste en:\n",
      "\n",
      "* Acceso Abierto.\n",
      "* Publicaci\u00f3n de datos, c\u00f3digo, el \"c\u00f3mo hacerlo\", la narrativa y resultados (tanto positivos como negativos).\n",
      "* Implica una revoluci\u00f3n cultural. Un cambio en el modelo \"mercantilista\" de c\u00f3mo se hace la ciencia actualmente.\n",
      "* Aprender de experiencias similares (Wikipedia, Polymath y el movimiento Software Libre, por ejemplo)"
     ]
    },
    {
     "cell_type": "code",
     "collapsed": false,
     "input": [
      "from IPython.display import YouTubeVideo\n",
      "YouTubeVideo(\"DnWocYKqvhw\")"
     ],
     "language": "python",
     "metadata": {
      "slideshow": {
       "slide_type": "fragment"
      }
     },
     "outputs": [
      {
       "html": [
        "\n",
        "        <iframe\n",
        "            width=\"400\"\n",
        "            height=300\"\n",
        "            src=\"https://www.youtube.com/embed/DnWocYKqvhw\"\n",
        "            frameborder=\"0\"\n",
        "            allowfullscreen\n",
        "        ></iframe>\n",
        "        "
       ],
       "metadata": {},
       "output_type": "pyout",
       "prompt_number": 5,
       "text": [
        "<IPython.lib.display.YouTubeVideo at 0x7f58bca43320>"
       ]
      }
     ],
     "prompt_number": 5
    },
    {
     "cell_type": "markdown",
     "metadata": {
      "slideshow": {
       "slide_type": "-"
      }
     },
     "source": [
      "# El quehacer cient\u00edfico\n",
      " * algo"
     ]
    },
    {
     "cell_type": "markdown",
     "metadata": {},
     "source": [
      "# Flujo de trabajo\n",
      " * Internet\n",
      " * Constante desarrollo\n",
      " * C\u00f3digo\n",
      " * Datos\n",
      " * Narrativa"
     ]
    }
   ],
   "metadata": {}
  }
 ]
}